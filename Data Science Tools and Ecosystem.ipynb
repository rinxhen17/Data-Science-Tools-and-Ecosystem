{
 "cells": [
  {
   "cell_type": "markdown",
   "id": "e4efca02",
   "metadata": {},
   "source": [
    "<center>\n",
    "    <img src=\"https://cf-courses-data.s3.us.cloud-object-storage.appdomain.cloud/IBMDeveloperSkillsNetwork-DS0105EN-SkillsNetwork/labs/Module2/images/SN_web_lightmode.png\" width=\"300\" alt=\"cognitiveclass.ai logo\">\n",
    "</center>\n",
    "\n",
    "# Data Science Tools and Ecosystem\n",
    "\n",
    "In this notebook, Data Science Tools and Ecosystem are summarized.\n",
    "\n",
    "**Objectives:**\n",
    "- List popular languages for Data Science.\n",
    "- Discuss popular libraries for Data Science.\n",
    "- Learn about different Development Environment(IDE).\n",
    "- How to use Simple mathematics.\n",
    "- Convert minutes into hours.\n",
    "\n",
    "Some of the popular languages that Data Scientist use are:\n",
    "1. Python\n",
    "2. R\n",
    "3. SQL\n",
    "\n",
    "Some of the commonly used libraries used by Data Scientist include:\n",
    "1. Numpy\n",
    "2. pandas\n",
    "3. seaborn\n",
    "4. Matplotlib\n",
    "\n",
    "|Data Science Tools|\n",
    "|-------------------|\n",
    "|Spyder|\n",
    "|Jupyter Notebook|\n",
    "|R-studio|"
   ]
  },
  {
   "cell_type": "code",
   "execution_count": 4,
   "id": "985ca81f",
   "metadata": {},
   "outputs": [
    {
     "data": {
      "text/plain": [
       "17"
      ]
     },
     "execution_count": 4,
     "metadata": {},
     "output_type": "execute_result"
    }
   ],
   "source": [
    "### Below are a few examples of evaluating arithmetic expressions in Python.\n",
    "\n",
    "# This a simple arithmetic expression to mutiply then add integers.\n",
    "(3*4)+5"
   ]
  },
  {
   "cell_type": "code",
   "execution_count": 5,
   "id": "a066853a",
   "metadata": {},
   "outputs": [
    {
     "name": "stdout",
     "output_type": "stream",
     "text": [
      "There are 3.33 hour in 200 minutes.\n"
     ]
    }
   ],
   "source": [
    "# This will convert 200 minutes to hours by diving by 60.\n",
    "minutes=200\n",
    "hour=minutes/60\n",
    "print(f'There are {hour:.2f} hour in {minutes} minutes.')\n"
   ]
  },
  {
   "cell_type": "markdown",
   "id": "f2609b38",
   "metadata": {},
   "source": [
    "## Author\n",
    "Pasang Sherpa"
   ]
  },
  {
   "cell_type": "code",
   "execution_count": null,
   "id": "8101c3f9",
   "metadata": {},
   "outputs": [],
   "source": []
  },
  {
   "cell_type": "code",
   "execution_count": null,
   "id": "c6da534b",
   "metadata": {},
   "outputs": [],
   "source": []
  }
 ],
 "metadata": {
  "kernelspec": {
   "display_name": "Python 3 (ipykernel)",
   "language": "python",
   "name": "python3"
  },
  "language_info": {
   "codemirror_mode": {
    "name": "ipython",
    "version": 3
   },
   "file_extension": ".py",
   "mimetype": "text/x-python",
   "name": "python",
   "nbconvert_exporter": "python",
   "pygments_lexer": "ipython3",
   "version": "3.11.7"
  }
 },
 "nbformat": 4,
 "nbformat_minor": 5
}
